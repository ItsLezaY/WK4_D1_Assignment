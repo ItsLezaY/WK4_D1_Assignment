{
 "cells": [
  {
   "cell_type": "markdown",
   "id": "ee8630e5",
   "metadata": {},
   "source": [
    "### In-Class Exercise #3 <br>\n",
    "<p>Print each persons name and twitter handle, using groups, should look like:</p>\n",
    "<p>==============<br>\n",
    "   Full Name / Twitter<br>\n",
    "   ==============</p>\n",
    "Derek Hawkins / @derekhawkins\n",
    "\n",
    " Erik Sven-Osterberg / @sverik\n",
    "\n",
    " Ryan Butz / @ryanbutz\n",
    "\n",
    " Example Exampleson / @example\n",
    "\n",
    " Ripal Pael / @ripalp\n",
    "\n",
    " Darth Vader / @darthvader"
   ]
  },
  {
   "cell_type": "code",
   "execution_count": 2,
   "id": "2ac17de6",
   "metadata": {},
   "outputs": [],
   "source": [
    "import re"
   ]
  },
  {
   "cell_type": "code",
   "execution_count": 3,
   "id": "a3fef786",
   "metadata": {},
   "outputs": [],
   "source": [
    "with open(\"names.txt\") as f:\n",
    "    data = f.readlines()"
   ]
  },
  {
   "cell_type": "code",
   "execution_count": 5,
   "id": "a078947d",
   "metadata": {},
   "outputs": [
    {
     "name": "stdout",
     "output_type": "stream",
     "text": [
      "\t===================\n",
      "\n",
      "\tFull Name / Twitter\n",
      "\n",
      "\t===================\n",
      "\n",
      "\tDerek Hawkins / @derekhawkins\n",
      "\n",
      "\tMo Zhai / @codingtemple\n",
      "\n",
      "\tJoe Johnson / @codingtemple\n",
      "\n",
      "\tJoe Johson / @sverik\n",
      "\n",
      "\tRyan Butz / @ryanbutz\n",
      "\n",
      "\tThe Doctor / @tardis\n",
      "\n",
      "\tGallifrey Lord / @example\n",
      "\n",
      "\tRipal Pael / @ripalp\n",
      "\n",
      "\tDarth Vader / @darthvader\n",
      "\n",
      "\tMaria Sanz / @spain\n"
     ]
    }
   ],
   "source": [
    "pattern = r\"([A-Za-z'-]+), ([A-Za-z'-]+)\\s+.*(@[A-Za-z0-9_]+)\"\n",
    "matches = re.findall(pattern, \"\\n\".join(data))\n",
    "\n",
    "\n",
    "print(\"\\t\" + \"=\" * 19)   \n",
    "print(\"\\n\\tFull Name / Twitter\\n\")\n",
    "print(\"\\t\" + \"=\" * 19)   \n",
    "for match in matches:\n",
    "    first_name = match[1]\n",
    "    last_name = match[0]\n",
    "    twitter_handle = match[2]\n",
    "    print(f\"\\n\\t{first_name} {last_name} / {twitter_handle}\")"
   ]
  },
  {
   "cell_type": "markdown",
   "id": "48f2f3c2",
   "metadata": {},
   "source": [
    "### Regex project\n",
    "\n",
    "Use python to read the file regex_test.txt and print the last name on each line using regular expressions and groups (return None for names with no first and last name, or names that aren't properly capitalized)\n",
    "##### Hint: use with open() and readlines()"
   ]
  },
  {
   "cell_type": "code",
   "execution_count": 6,
   "id": "711bfda6",
   "metadata": {},
   "outputs": [],
   "source": [
    "import re"
   ]
  },
  {
   "cell_type": "code",
   "execution_count": 7,
   "id": "94de5ed7",
   "metadata": {},
   "outputs": [],
   "source": [
    "with open('regex_test.txt', 'r') as file:\n",
    "    lines = file.readlines()"
   ]
  },
  {
   "cell_type": "code",
   "execution_count": 8,
   "id": "82c0ee39",
   "metadata": {},
   "outputs": [
    {
     "name": "stdout",
     "output_type": "stream",
     "text": [
      "Abraham Lincoln\n",
      "Andrew P Garfield\n",
      "Connor Milliken\n",
      "Jordan Alexander Williams\n",
      "None\n",
      "None\n"
     ]
    }
   ],
   "source": [
    "pattern = re.compile(r'^[A-Z][a-z]*(?: [A-Z][a-z]*(?: [A-Z][a-z]*)*)$')\n",
    "\n",
    "for line in lines:\n",
    "    match = pattern.match(line.strip())\n",
    "    if match:\n",
    "        print(line.strip())\n",
    "    else:\n",
    "        print(\"None\")"
   ]
  }
 ],
 "metadata": {
  "kernelspec": {
   "display_name": "Python 3 (ipykernel)",
   "language": "python",
   "name": "python3"
  },
  "language_info": {
   "codemirror_mode": {
    "name": "ipython",
    "version": 3
   },
   "file_extension": ".py",
   "mimetype": "text/x-python",
   "name": "python",
   "nbconvert_exporter": "python",
   "pygments_lexer": "ipython3",
   "version": "3.10.9"
  }
 },
 "nbformat": 4,
 "nbformat_minor": 5
}
